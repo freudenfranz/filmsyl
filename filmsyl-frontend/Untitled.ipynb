{
 "cells": [
  {
   "cell_type": "code",
<<<<<<<< HEAD:filmsyl-frontend/Testfiles.ipynb
   "execution_count": 2,
   "id": "b8186ad6-3aec-4175-b22f-b47c4b28c446",
========
   "execution_count": 1,
   "id": "a1cab3b9-6102-47e9-b11a-b998d2d37ab3",
   "metadata": {},
   "outputs": [],
   "source": []
  },
  {
   "cell_type": "code",
   "execution_count": 5,
   "id": "840fd9dd-54e2-4f7c-97f7-6d65c2118511",
>>>>>>>> 9c8051b99d436340425713bbdc3eb4dea566230a:filmsyl-frontend/Untitled.ipynb
   "metadata": {},
   "outputs": [
    {
     "name": "stdout",
     "output_type": "stream",
     "text": [
      "IMDb Suggestion: Peril for the Guy\n"
     ]
    }
   ],
   "source": []
<<<<<<<< HEAD:filmsyl-frontend/Testfiles.ipynb
  },
  {
   "cell_type": "code",
   "execution_count": null,
   "id": "eb9864af-d375-476a-9153-65f55fa5bed8",
   "metadata": {},
   "outputs": [],
   "source": [
    "\n",
    "\n"
   ]
========
>>>>>>>> 9c8051b99d436340425713bbdc3eb4dea566230a:filmsyl-frontend/Untitled.ipynb
  },
  {
   "cell_type": "code",
   "execution_count": null,
   "id": "1b0bf973-0021-464b-b3ff-ae9492d6c23b",
   "metadata": {},
   "outputs": [],
   "source": []
  },
  {
   "cell_type": "code",
   "execution_count": null,
   "id": "6d500117-ae66-4500-b8da-ba8895d8b4d4",
   "metadata": {},
   "outputs": [],
   "source": []
  },
  {
   "cell_type": "code",
   "execution_count": null,
   "id": "c011dd72-9208-4729-8aa8-60012a14429c",
   "metadata": {},
   "outputs": [],
   "source": []
  },
  {
   "cell_type": "code",
   "execution_count": null,
   "id": "0e42c2d3-b5f8-4874-abf7-1b4e8c31f7d5",
   "metadata": {},
   "outputs": [],
   "source": []
  }
 ],
 "metadata": {
  "kernelspec": {
   "display_name": "Python 3 (ipykernel)",
   "language": "python",
   "name": "python3"
  },
  "language_info": {
   "codemirror_mode": {
    "name": "ipython",
    "version": 3
   },
   "file_extension": ".py",
   "mimetype": "text/x-python",
   "name": "python",
   "nbconvert_exporter": "python",
   "pygments_lexer": "ipython3",
   "version": "3.10.6"
  }
 },
 "nbformat": 4,
 "nbformat_minor": 5
}
