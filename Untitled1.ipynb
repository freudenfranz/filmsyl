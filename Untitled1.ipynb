{
 "cells": [
  {
   "cell_type": "code",
   "execution_count": 1,
   "id": "99afafd0-b2e1-47a8-9378-4af3ef8839f5",
   "metadata": {},
   "outputs": [],
   "source": [
    "# import os\n",
    "# import numpy as np\n",
    "# import pandas as pd\n",
    "# import seaborn as sns\n",
    "# import matplotlib.pyplot as plt\n",
    "# from sklearn.cluster import KMeans\n",
    "# from sklearn.feature_extraction.text import CountVectorizer\n",
    "# # from sklearn.metrics.pairwise import cosine_similarity\n"
   ]
  },
  {
   "cell_type": "code",
   "execution_count": 2,
   "id": "3b0c5174-cc35-4cab-b9ef-3af74331d220",
   "metadata": {},
   "outputs": [],
   "source": [
    "# #import IMDb movie csv\n",
    "# csv = os.path.join(\"filmsyl/raw_data/\", \"final_and_clean_imdb.csv\")\n",
    "# imdb_df = pd.read_csv(csv)\n",
    "# imdb_df.replace({'\\\\N': np.nan, '': np.nan}, inplace=True)"
   ]
  },
  {
   "cell_type": "code",
   "execution_count": 3,
   "id": "b7fa69a3-82c3-4e6f-944c-9031a0f8167c",
   "metadata": {},
   "outputs": [],
   "source": [
    "# #import Netflix movie csv\n",
    "# csv_ = os.path.join(\"filmsyl/raw_data/\", \"jakob_movies.csv\")\n",
    "# netflix_df = pd.read_csv(csv_)\n",
    "# netflix_df.replace({'\\\\N': np.nan, '': np.nan}, inplace=True)"
   ]
  },
  {
   "cell_type": "code",
   "execution_count": null,
   "id": "94cf4c5b-5b59-472d-b117-8a5f0c6becff",
   "metadata": {},
   "outputs": [],
   "source": []
  },
  {
   "cell_type": "code",
   "execution_count": 4,
   "id": "c77d404c-7803-4382-8d7e-68643b1e12eb",
   "metadata": {},
   "outputs": [],
   "source": [
    "# netflix_df.dropna(inplace=True)\n",
    "# imdb_df.dropna(inplace=True)"
   ]
  },
  {
   "cell_type": "code",
   "execution_count": 5,
   "id": "052134df-261a-48b7-8cac-6e783dbb8c36",
   "metadata": {},
   "outputs": [],
   "source": [
    "# # combine imdb text features. \n",
    "# imdb_df['text_features']= imdb_df['genres'] + ' ' + imdb_df['Director']"
   ]
  },
  {
   "cell_type": "code",
   "execution_count": 7,
   "id": "a1ef2b7f-9cb7-44cb-a107-00629cfca84f",
   "metadata": {},
   "outputs": [],
   "source": [
    "# netflix_df['text_features'] = netflix_df['title'] + ' ' + netflix_df['genres'] + ' ' + netflix_df['Director']"
   ]
  },
  {
   "cell_type": "code",
   "execution_count": 15,
   "id": "1f90685d-59c0-406b-be16-4a1edc01293a",
   "metadata": {},
   "outputs": [],
   "source": [
    "# #drop NaN values total 70574\n",
    "# netflix_df.dropna(subset=['text_features'], inplace=True)\n",
    "# imdb_df.dropna(subset=['text_features'], inplace=True)"
   ]
  },
  {
   "cell_type": "code",
   "execution_count": 9,
   "id": "ced9b9c5-9c7c-4e63-a80e-ae7b9044520f",
   "metadata": {},
   "outputs": [],
   "source": [
    "# Initialize CountVectorizer\n",
    "# vectorizer = CountVectorizer()"
   ]
  },
  {
   "cell_type": "code",
   "execution_count": 10,
   "id": "f946347d-abc4-4d93-988c-3d61f76c564a",
   "metadata": {},
   "outputs": [],
   "source": [
    "# # Fit and transform the text data for IMDb\n",
    "# imdb_text_matrix = vectorizer.fit_transform(imdb_df['text_features'])\n",
    "\n",
    "# # Fit and transform the text data for Netflix\n",
    "# netflix_text_matrix = vectorizer.transform(netflix_df['text_features'])"
   ]
  },
  {
   "cell_type": "code",
   "execution_count": 11,
   "id": "7359b5e0-732d-44b6-b0f2-b987c1fd9f6c",
   "metadata": {},
   "outputs": [],
   "source": [
    "# # Define the number of clusters (experiment with this value)\n",
    "# num_clusters = 10\n",
    "\n",
    "# # Create and fit the KMeans model\n",
    "# kmeans_model = KMeans(n_clusters=num_clusters)\n",
    "# kmeans_model.fit(imdb_text_matrix)\n",
    "\n",
    "# # Get cluster labels for each movie in the IMDB dataset\n",
    "# imdb_cluster_labels = kmeans_model.labels_\n",
    "\n"
   ]
  },
  {
   "cell_type": "code",
   "execution_count": 29,
   "id": "b5ebd586-28ea-4d4f-86bb-cefd21b95ba7",
   "metadata": {},
   "outputs": [],
   "source": [
    "# knn_model = NearestNeighbors(n_neighbors=5, metric='cosine')\n",
    "# knn_model.fit(imdb_text_matrix)"
   ]
  },
  {
   "cell_type": "code",
   "execution_count": 19,
   "id": "b3c412ae-1ace-4ce9-818a-4b18948a9cab",
   "metadata": {},
   "outputs": [],
   "source": [
    "# Find nearest neighbors for Netflix data\n",
    "# distances, indices = knn_model.kneighbors(netflix_text_matrix)"
   ]
  },
  {
   "cell_type": "code",
   "execution_count": 20,
   "id": "28313007-4d03-4b29-b19f-e7973053c9b2",
   "metadata": {},
   "outputs": [
    {
     "name": "stdout",
     "output_type": "stream",
     "text": [
      "We recommend: 'Tokyo After Dark'\n",
      "We recommend: 'A Man's Man'\n",
      "We recommend: 'The Wolf Man'\n"
     ]
    }
   ],
   "source": [
    "# imdb_recommendations = []  # Initialize an empty list to store IMDb recommendations\n",
    "\n",
    "# # Loop through each row in the DataFrame netflix_df\n",
    "# for i in range(len(netflix_df)):\n",
    "#         second_nearest_neighbor_index = indices[i][1]  # Get the index of the second closest neighbor for the current row\n",
    "#         imdb_title = imdb_df.iloc[second_nearest_neighbor_index]['title']  # Retrieve the title from the IMDb DataFrame using the second nearest neighbor index\n",
    "#         netflix_title = netflix_df.iloc[i]['title']  # Retrieve the title of the Netflix movie\n",
    "#         imdb_recommendations.append((netflix_title, imdb_title))  # Append a tuple of Netflix title and IMDb recommendation\n",
    "\n",
    "# # Display the first 10 IMDb recommendations\n",
    "# for netflix_title, imdb_title in imdb_recommendations[:3]:\n",
    "#     i=1\n",
    "#     print(f\"We recommend: '{imdb_title}'\")\n"
   ]
  },
  {
   "cell_type": "code",
   "execution_count": 3,
   "id": "91cfc138-b5c1-4700-b51b-2e8bb2daefd2",
   "metadata": {},
   "outputs": [],
   "source": [
    "import pandas as pd\n",
    "import numpy as np\n",
    "from sklearn.feature_extraction.text import TfidfVectorizer\n",
    "from sklearn.metrics.pairwise import linear_kernel\n",
    "from filmsyl.netflix.netflix import clean_titles\n",
    "\n",
    "def preprocess_data(df):\n",
    "    df['text_features'] = df['genres'] + ' ' + df['Director'] + ' ' + df['plot']\n",
    "    df['text_features'] = df['text_features'].fillna('')\n",
    "    return df\n",
    "\n",
    "def calculate_similarity(imdb_df, netflix_df):\n",
    "    tfidf = TfidfVectorizer(stop_words='english')\n",
    "    tfidf_matrix = tfidf.fit_transform(imdb_df['text_features'])\n",
    "    netflix_tfidf = tfidf.transform(netflix_df['text_features'])\n",
    "    cosine_sim_netflix = linear_kernel(netflix_tfidf, tfidf_matrix)\n",
    "    mean_similarity = np.mean(cosine_sim_netflix, axis=0)\n",
    "    imdb_df['mean_similarity'] = mean_similarity\n",
    "    return imdb_df\n"
   ]
  },
  {
   "cell_type": "code",
   "execution_count": 4,
   "id": "6c263158-19a0-4511-b8d9-c08c6d8c3763",
   "metadata": {},
   "outputs": [],
   "source": [
    "def get_rec(amount: int, imdb_df: pd.DataFrame, netflix_df: pd.DataFrame, new_movies: pd.DataFrame) -> pd.DataFrame:\n",
    "    imdb_df = preprocess_data(imdb_df)\n",
    "    netflix_df['text_features'] = netflix_df['title'] + ' ' + netflix_df['genres'] + ' ' + netflix_df['Director']\n",
    "    \n",
    "    if new_movies.empty:\n",
    "        # Filter IMDb movies that are not in Netflix list to give a reccomendation the user can watch\n",
    "        not_in_netflix = imdb_df[~imdb_df['primaryTitle'].isin(netflix_df['title'])]\n",
    "        return not_in_netflix.sort_values(by='mean_similarity', ascending=False)['primaryTitle'].head(amount)\n",
    "    \n",
    "    #return a sorted list of new sorted recomendation\n",
    "    new_df = imdb_df[imdb_df['primaryTitle'].isin(new_movies['title'])]\n",
    "    \n",
    "    return new_df.sort_values(by='mean_similarity', ascending=False)['primaryTitle'].head(amount)\n"
   ]
  },
  {
   "cell_type": "code",
   "execution_count": null,
   "id": "219a53a9-a963-4acf-a9a4-d33b9e0d4b05",
   "metadata": {},
   "outputs": [],
   "source": [
    "\n",
    "# import pandas as pd\n",
    "# import numpy as np\n",
    "# from sklearn.feature_extraction.text import TfidfVectorizer\n",
    "# from sklearn.metrics.pairwise import linear_kernel\n",
    "# from filmsyl.data.data import get_imdb, get_netflix_example, find_titles_in_imdb\n",
    "# from filmsyl.netflix.netflix import clean_titles\n",
    "\n",
    "\n",
    "# def get_rec(amount: int, imdb_df: pd.DataFrame, netflix_df: pd.DataFrame,new_movies: pd.DataFrame) -> pd.DataFrame:\n",
    "#     \"\"\"\n",
    "#     Get movie get_recommendations based on a imdb_database and a netflix history\n",
    "#     \"\"\"\n",
    "#     imdb_df['text_features'] = imdb_df['genres'] + ' ' + imdb_df['Director']+ ' ' + imdb_df['plot']\n",
    "#     #imdb_df_preprocess=imdb_df.drop(columns=['genres','Director','averageRating','titleId','startYear','numVotes','runtimeMinutes'])\n",
    "\n",
    "#     joined_nf = netflix_df['title'] + ' ' + netflix_df['genres'] + ' ' + netflix_df['Director']\n",
    "#     netflix_df.loc[:,['text_features']] = joined_nf\n",
    "#     #netflix_df_preprocess=netflix_df.drop(columns=['genres','Director','averageRating','titleId','startYear','numVotes','runtimeMinutes'])\n",
    "\n",
    "#     #Define a TF-IDF Vectorizer Object. Remove all english stop words such as 'the', 'a'\n",
    "#     tfidf = TfidfVectorizer(stop_words='english')\n",
    "#     #Replace NaN with an empty string\n",
    "#     imdb_df['text_features'] = imdb_df['text_features'].fillna('')\n",
    "\n",
    "#     tfidf_matrix = tfidf.fit_transform(imdb_df['text_features'])\n",
    "\n",
    "#     netflix_tfidf = tfidf.transform(netflix_df['text_features'])\n",
    "\n",
    "#     #indices = pd.Series(imdb_df.index, index=imdb_df['primaryTitle']).drop_duplicates()\n",
    "\n",
    "#     cosine_sim_netflix = linear_kernel(netflix_tfidf, tfidf_matrix)\n",
    "\n",
    "#     mean_similarity = np.mean(cosine_sim_netflix, axis=0)\n",
    "\n",
    "#     imdb_df['mean_similarity'] = mean_similarity\n",
    "\n",
    "#     sorted_df = imdb_df.sort_values(by='mean_similarity', ascending=False)\n",
    "\n",
    "#     new_= imdb_df[imdb_df['primaryTitle'].isin(new_movies['title'])]\n",
    "\n",
    "#     # Return the top 'amount' movie titles as a Series\n",
    "#     return new_.sort_values(by='mean_similarity', ascending=False)['primaryTitle']\n",
    "#     # Display the first [amount] IMDb recommendations\n",
    "\n"
   ]
  },
  {
   "cell_type": "code",
   "execution_count": null,
   "id": "843cbb7e-0ef2-4355-9552-36870498cbc0",
   "metadata": {},
   "outputs": [],
   "source": []
  }
 ],
 "metadata": {
  "kernelspec": {
   "display_name": "Python 3 (ipykernel)",
   "language": "python",
   "name": "python3"
  },
  "language_info": {
   "codemirror_mode": {
    "name": "ipython",
    "version": 3
   },
   "file_extension": ".py",
   "mimetype": "text/x-python",
   "name": "python",
   "nbconvert_exporter": "python",
   "pygments_lexer": "ipython3",
   "version": "3.10.6"
  }
 },
 "nbformat": 4,
 "nbformat_minor": 5
}
