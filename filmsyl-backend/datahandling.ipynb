{
 "cells": [
  {
   "cell_type": "code",
   "execution_count": 2,
   "metadata": {},
   "outputs": [
    {
     "name": "stdout",
     "output_type": "stream",
     "text": [
      "/Users/jack/code/freudenfranz/filmsyl/filmsyl-backend\n"
     ]
    }
   ],
   "source": [
    "!pwd"
   ]
  },
  {
   "cell_type": "code",
   "execution_count": 3,
   "metadata": {},
   "outputs": [],
   "source": [
    "import os\n",
    "import pandas as pd\n",
    "from filmsyl.model.data import get_imdb\n",
    "from filmsyl.netflix.netflix import get_nf_imdb_matches, filter_series_titles, find_and_return_matches"
   ]
  },
  {
   "cell_type": "code",
   "execution_count": 50,
   "metadata": {},
   "outputs": [
    {
     "name": "stdout",
     "output_type": "stream",
     "text": [
      "✅ csv loaded\n",
      "✅ data cleaned\n"
     ]
    },
    {
     "data": {
      "text/plain": [
       "1339"
      ]
     },
     "execution_count": 50,
     "metadata": {},
     "output_type": "execute_result"
    }
   ],
   "source": [
    "IMDB_PATH ='filmsyl/data'\n",
    "IMDB_FILNAME ='imdb_movies.csv'\n",
    "imdb_df = get_imdb(IMDB_PATH, IMDB_FILNAME)\n",
    "imdb_df.size"
   ]
  },
  {
   "cell_type": "code",
   "execution_count": 4,
   "metadata": {},
   "outputs": [],
   "source": [
    "csv_ = os.path.join(\"filmsyl/raw_data\", \"NetflixViewingHistory.csv\")\n",
    "netflix_df = pd.read_csv(csv_)"
   ]
  },
  {
   "cell_type": "code",
   "execution_count": 42,
   "metadata": {},
   "outputs": [
    {
     "name": "stdout",
     "output_type": "stream",
     "text": [
      "✅ removed series of nf\n",
      "                      Title        Date\n",
      "34                Uncharted  18/02/2024\n",
      "60             The Punisher  10/02/2024\n",
      "64           The Contractor  09/02/2024\n",
      "82                     Lift  26/01/2024\n",
      "83              Interceptor  25/01/2024\n",
      "..                      ...         ...\n",
      "892                   Rocco  22/07/2021\n",
      "893        Army of the Dead  20/07/2021\n",
      "894          Den of Thieves  19/07/2021\n",
      "895               Homefront  19/07/2021\n",
      "909  Straight Outta Compton  16/07/2021\n",
      "\n",
      "[145 rows x 2 columns]\n"
     ]
    },
    {
     "data": {
      "text/plain": [
       "145"
      ]
     },
     "execution_count": 42,
     "metadata": {},
     "output_type": "execute_result"
    }
   ],
   "source": [
    "#netflix_df.replace({'\\\\N': np.nan, '': np.nan}, inplace=True)\n",
    "#nf_df = get_nf_imdb_matches(netflix_df)\n",
    "nf_df = pd.DataFrame(netflix_df)\n",
    "filtered_nf = filter_series_titles(nf_df)\n",
    "#matched_nf = find_and_return_matches(filtered_nf, imdb_df)\n",
    "total_non_series_films = len(filtered_nf)\n",
    "total_non_series_films"
   ]
  },
  {
   "cell_type": "code",
   "execution_count": 43,
   "metadata": {},
   "outputs": [
    {
     "data": {
      "text/plain": [
       "Title\n",
       "False    145\n",
       "Name: count, dtype: int64"
      ]
     },
     "execution_count": 43,
     "metadata": {},
     "output_type": "execute_result"
    }
   ],
   "source": [
    "# Find matches between non_series_df and df based on the 'Title' column\n",
    "matches = filtered_nf['Title'].isin(imdb_df['primaryTitle'])\n",
    "matches.value_counts()"
   ]
  },
  {
   "cell_type": "code",
   "execution_count": null,
   "metadata": {},
   "outputs": [],
   "source": []
  },
  {
   "cell_type": "code",
   "execution_count": null,
   "metadata": {},
   "outputs": [],
   "source": []
  }
 ],
 "metadata": {
  "kernelspec": {
   "display_name": "films-you-like",
   "language": "python",
   "name": "python3"
  },
  "language_info": {
   "codemirror_mode": {
    "name": "ipython",
    "version": 3
   },
   "file_extension": ".py",
   "mimetype": "text/x-python",
   "name": "python",
   "nbconvert_exporter": "python",
   "pygments_lexer": "ipython3",
   "version": "3.10.6"
  }
 },
 "nbformat": 4,
 "nbformat_minor": 2
}
