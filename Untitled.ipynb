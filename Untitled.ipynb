{
 "cells": [
  {
   "cell_type": "code",
   "execution_count": 20,
   "id": "836dbfff-56ef-48c1-aa58-b29dcf7d320a",
   "metadata": {},
   "outputs": [
    {
     "name": "stdout",
     "output_type": "stream",
     "text": [
      "The autoreload extension is already loaded. To reload it, use:\n",
      "  %reload_ext autoreload\n"
     ]
    }
   ],
   "source": [
    "import pandas as pd\n",
    "import numpy as np\n",
    "from filmsyl.settings import *\n",
    "import os\n",
    "from sklearn.feature_extraction.text import TfidfVectorizer\n",
    "from sklearn.metrics.pairwise import linear_kernel\n",
    "from filmsyl.netflix.netflix import clean_titles\n",
    "from filmsyl.data.data import get_imdb, get_netflix_example\n",
    "%load_ext autoreload\n",
    "%autoreload 2"
   ]
  },
  {
   "cell_type": "code",
   "execution_count": 21,
   "id": "c90659e7-771a-4448-b1e3-e5ca67f770d5",
   "metadata": {},
   "outputs": [],
   "source": [
    "movies_data = {\n",
    "    'Title': ['The Matrix', 'Inception', 'Pulp Fiction', 'The Shawshank Redemption', 'The Godfather', \n",
    "              'Forrest Gump', 'The Dark Knight', 'Fight Club', 'The Lord of the Rings: The Fellowship of the Ring', 'Titanic'],\n",
    "    'Year': [1999, 2010, 1994, 1994, 1972, 1994, 2008, 1999, 2001, 1997],\n",
    "    'Director': ['Lana Wachowski', 'Christopher Nolan', 'Quentin Tarantino', 'Frank Darabont', 'Francis Ford Coppola', \n",
    "                 'Robert Zemeckis', 'Christopher Nolan', 'David Fincher', 'Peter Jackson', 'James Cameron'],\n",
    "    'Genre': ['Action, Sci-Fi', 'Action, Adventure, Sci-Fi', 'Crime, Drama', 'Drama', 'Crime, Drama', \n",
    "              'Drama, Romance', 'Action, Crime, Drama', 'Drama', 'Action, Adventure, Drama', 'Drama, Romance']\n",
    "}\n",
    "\n",
    "# Create DataFrame\n",
    "new_movies = pd.DataFrame(movies_data)"
   ]
  },
  {
   "cell_type": "code",
   "execution_count": 5,
   "id": "237198d1-94c2-446d-8bfb-028508c2462f",
   "metadata": {},
   "outputs": [],
   "source": [
    "# imdb_df = get_imdb()\n",
    "# imdb_df"
   ]
  },
  {
   "cell_type": "code",
   "execution_count": null,
   "id": "9bcd8f4c-0fba-4f0b-8134-9352856fb4b7",
   "metadata": {},
   "outputs": [],
   "source": []
  },
  {
   "cell_type": "code",
   "execution_count": 6,
   "id": "65de5770-930e-4790-83d0-472df38fc3f5",
   "metadata": {},
   "outputs": [],
   "source": [
    "# netflix_df = get_netflix_example()\n",
    "# netflix_df"
   ]
  },
  {
   "cell_type": "code",
   "execution_count": 7,
   "id": "78db8e2b-b9f1-4381-bddc-b31f32ab1528",
   "metadata": {},
   "outputs": [],
   "source": [
    "# imdb_df['text_features']= imdb_df['genres'] + ' ' + imdb_df['Director']+ ' ' + imdb_df['plot']\n",
    "# imdb_df_preprocess=imdb_df.drop(columns=['genres','Director','averageRating','titleId','startYear','numVotes','runtimeMinutes'])\n",
    "\n",
    "# netflix_df['text_features'] = netflix_df['title'] + ' ' + netflix_df['genres'] + ' ' + netflix_df['Director']\n",
    "# netflix_df_preprocess=netflix_df.drop(columns=['genres','Director','averageRating','titleId','startYear','numVotes','runtimeMinutes'])"
   ]
  },
  {
   "cell_type": "code",
   "execution_count": 8,
   "id": "69580942-1247-48d1-bf58-ba4e231ebd1d",
   "metadata": {},
   "outputs": [],
   "source": [
    "\n",
    "# #Define a TF-IDF Vectorizer Object. Remove all english stop words such as 'the', 'a'\n",
    "# tfidf = TfidfVectorizer(stop_words='english')\n",
    "\n",
    "# #Replace NaN with an empty string\n",
    "# imdb_df['text_features'] = imdb_df['text_features'].fillna('')\n",
    "\n",
    "# #Construct the required TF-IDF matrix by fitting and transforming the data\n",
    "# tfidf_matrix = tfidf.fit_transform(imdb_df['text_features'])\n",
    "\n",
    "# #Output the shape of tfidf_matrix\n",
    "# tfidf_matrix.shape"
   ]
  },
  {
   "cell_type": "code",
   "execution_count": 9,
   "id": "8fadf4b6-abcc-46ba-810e-cb1fe9558205",
   "metadata": {},
   "outputs": [],
   "source": [
    "# netflix_tfidf = tfidf.transform(netflix_df['text_features'])"
   ]
  },
  {
   "cell_type": "code",
   "execution_count": 10,
   "id": "f81620b9-2b8b-485f-8a83-e02d31194944",
   "metadata": {},
   "outputs": [],
   "source": [
    "# netflix_tfidf.shape"
   ]
  },
  {
   "cell_type": "code",
   "execution_count": 11,
   "id": "e76ba0a8-9aa6-42c3-ab09-0171252e5e41",
   "metadata": {},
   "outputs": [],
   "source": [
    "# indices = pd.Series(imdb_df.index, index=imdb_df['primaryTitle']).drop_duplicates()\n",
    "# indices"
   ]
  },
  {
   "cell_type": "code",
   "execution_count": 12,
   "id": "2b461c21-3f5c-4f1d-8c93-f711e8ea3e69",
   "metadata": {},
   "outputs": [],
   "source": [
    "# cosine_sim_netflix = linear_kernel(netflix_tfidf, tfidf_matrix)"
   ]
  },
  {
   "cell_type": "code",
   "execution_count": 13,
   "id": "847bda8d-2aec-4437-a05b-7e5ac9ae55a8",
   "metadata": {},
   "outputs": [],
   "source": [
    "# mean_similarity = np.mean(cosine_sim_netflix, axis=0)\n",
    "# mean_similarity"
   ]
  },
  {
   "cell_type": "code",
   "execution_count": 14,
   "id": "f558e3eb-1c1d-456d-a7c8-bca4f6a68338",
   "metadata": {},
   "outputs": [],
   "source": [
    "# imdb_df['mean_similarity'] = mean_similarity"
   ]
  },
  {
   "cell_type": "code",
   "execution_count": 15,
   "id": "2956c65f-08b8-4b5b-ac6a-876f85090bd2",
   "metadata": {},
   "outputs": [],
   "source": [
    "# recomendation = imdb_df.sort_values(by='mean_similarity', ascending=False)"
   ]
  },
  {
   "cell_type": "code",
   "execution_count": 16,
   "id": "152ed293-d297-45d3-baab-ca707f04efec",
   "metadata": {},
   "outputs": [],
   "source": [
    "# recomendation['primaryTitle'].head(10)"
   ]
  },
  {
   "cell_type": "code",
   "execution_count": 17,
   "id": "73849557-2abb-4888-b413-4f196f16f434",
   "metadata": {},
   "outputs": [],
   "source": [
    "# # Sample data for demonstration\n",
    "# movies_data = {\n",
    "#     'Title': ['The Matrix', 'Inception', 'Pulp Fiction', 'The Shawshank Redemption', 'The Godfather', \n",
    "#               'Forrest Gump', 'The Dark Knight', 'Fight Club', 'The Lord of the Rings: The Fellowship of the Ring', 'Titanic'],\n",
    "#     'Year': [1999, 2010, 1994, 1994, 1972, 1994, 2008, 1999, 2001, 1997],\n",
    "#     'Director': ['Lana Wachowski', 'Christopher Nolan', 'Quentin Tarantino', 'Frank Darabont', 'Francis Ford Coppola', \n",
    "#                  'Robert Zemeckis', 'Christopher Nolan', 'David Fincher', 'Peter Jackson', 'James Cameron'],\n",
    "#     'Genre': ['Action, Sci-Fi', 'Action, Adventure, Sci-Fi', 'Crime, Drama', 'Drama', 'Crime, Drama', \n",
    "#               'Drama, Romance', 'Action, Crime, Drama', 'Drama', 'Action, Adventure, Drama', 'Drama, Romance']\n",
    "# }\n",
    "# \n",
    "# # Create DataFrame\n",
    "# movies_df = pd.DataFrame(movies_data)"
   ]
  },
  {
   "cell_type": "code",
   "execution_count": 18,
   "id": "81a8eaed-e0a3-4556-ae91-6c931454eb49",
   "metadata": {},
   "outputs": [],
   "source": [
    "# newmovies = imdb_df[imdb_df['primaryTitle'].isin(movies_data['Title'])]\n",
    "# RECC=newmovies.sort_values(by='mean_similarity', ascending=False)['primaryTitle']\n",
    "# RECC"
   ]
  },
  {
   "cell_type": "code",
   "execution_count": 32,
   "id": "cca07ac5-a914-4183-9fd7-c8e3c36fa26e",
   "metadata": {},
   "outputs": [],
   "source": [
    "e = pd.DataFrame()"
   ]
  },
  {
   "cell_type": "code",
   "execution_count": 28,
   "id": "8bfcb5ed-09b3-46ff-8f46-24c325ac9b9a",
   "metadata": {},
   "outputs": [],
   "source": [
    "\n",
    "\n",
    "def preprocess_data(imdb_df, netflix_df):\n",
    "    imdb_df['text_features'] = imdb_df['genres'] + ' ' + imdb_df['Director'] + ' ' + imdb_df['plot']\n",
    "    netflix_df['text_features'] = netflix_df['genres'] + ' ' + netflix_df['Director']\n",
    "    imdb_df['text_features'] = imdb_df['text_features'].fillna('')\n",
    "    netflix_df['text_features'] = netflix_df['text_features'].fillna('')\n",
    "    return imdb_df, netflix_df\n",
    "\n",
    "def calculate_similarity(imdb_df, netflix_df):\n",
    "    tfidf = TfidfVectorizer(stop_words='english')\n",
    "    tfidf_matrix = tfidf.fit_transform(imdb_df['text_features'])\n",
    "    netflix_tfidf = tfidf.transform(netflix_df['text_features'])\n",
    "    cosine_sim_netflix = linear_kernel(netflix_tfidf, tfidf_matrix)\n",
    "    mean_similarity = np.mean(cosine_sim_netflix, axis=0)\n",
    "    imdb_df['mean_similarity'] = mean_similarity\n",
    "    return imdb_df\n",
    "\n",
    "def get_movie_recommendation(amount: int,imdb_df, netflix_df,new_movies):\n",
    "    imdb_df, netflix_df = preprocess_data(imdb_df, netflix_df)\n",
    "    imdb_df = calculate_similarity(imdb_df, netflix_df)\n",
    "    \n",
    "    if new_movies.empty:\n",
    "        return imdb_df.sort_values(by='mean_similarity', ascending=False)['primaryTitle'].head(amount)\n",
    "    \n",
    "    new_df = imdb_df[imdb_df['primaryTitle'].isin(new_movies['Title'])]\n",
    "    return new_df.sort_values(by='mean_similarity', ascending=False)['primaryTitle'].head(amount)\n"
   ]
  },
  {
   "cell_type": "code",
   "execution_count": 33,
   "id": "17ea116c-4c45-450b-9b93-88b930ec7690",
   "metadata": {},
   "outputs": [
    {
     "data": {
      "text/plain": [
       "269425          High-Rise Rescue\n",
       "6247      Where the North Begins\n",
       "152859                     Owned\n",
       "74457         The Great Villains\n",
       "264804                   Arsenal\n",
       "Name: primaryTitle, dtype: object"
      ]
     },
     "execution_count": 33,
     "metadata": {},
     "output_type": "execute_result"
    }
   ],
   "source": [
    "get_movie_recommendation(5,imdb_df,netflix_df,e)\n"
   ]
  },
  {
   "cell_type": "code",
   "execution_count": null,
   "id": "76c9fdd6-9032-4a01-8ff1-f127bc635fe0",
   "metadata": {},
   "outputs": [],
   "source": []
  }
 ],
 "metadata": {
  "kernelspec": {
   "display_name": "Python 3 (ipykernel)",
   "language": "python",
   "name": "python3"
  },
  "language_info": {
   "codemirror_mode": {
    "name": "ipython",
    "version": 3
   },
   "file_extension": ".py",
   "mimetype": "text/x-python",
   "name": "python",
   "nbconvert_exporter": "python",
   "pygments_lexer": "ipython3",
   "version": "3.10.6"
  }
 },
 "nbformat": 4,
 "nbformat_minor": 5
}
